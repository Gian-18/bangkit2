{
  "nbformat": 4,
  "nbformat_minor": 0,
  "metadata": {
    "colab": {
      "provenance": []
    },
    "kernelspec": {
      "name": "python3",
      "display_name": "Python 3"
    },
    "language_info": {
      "name": "python"
    }
  },
  "cells": [
    {
      "cell_type": "code",
      "execution_count": 37,
      "metadata": {
        "id": "54m_ehJynQLF"
      },
      "outputs": [],
      "source": [
        "import tensorflow as tf\n",
        "from tensorflow import keras\n",
        "from tensorflow.keras import layers\n",
        "import pandas as pd\n",
        "from sklearn.feature_extraction.text import TfidfVectorizer\n",
        "from tensorflow.keras.models import Sequential\n",
        "from tensorflow.keras.layers import Dense, Embedding, Flatten"
      ]
    },
    {
      "cell_type": "code",
      "source": [
        "  from google.colab import drive\n",
        "  drive.mount('/content/drive')\n"
      ],
      "metadata": {
        "colab": {
          "base_uri": "https://localhost:8080/"
        },
        "id": "QAfdJ7EXnUv-",
        "outputId": "89eebc0c-0a92-4a16-888f-873328263f4d"
      },
      "execution_count": 38,
      "outputs": [
        {
          "output_type": "stream",
          "name": "stdout",
          "text": [
            "Drive already mounted at /content/drive; to attempt to forcibly remount, call drive.mount(\"/content/drive\", force_remount=True).\n"
          ]
        }
      ]
    },
    {
      "cell_type": "code",
      "source": [
        "dataset_path = '/content/drive/My Drive/data_capstone'\n",
        "wisata_data = pd.read_csv('/content/drive/My Drive/data_capstone/cleaned_dataset_wisata.csv')\n",
        "# user_data = pd.read_csv('/content/drive/My Drive/data_capstone/user.csv')\n",
        "\n"
      ],
      "metadata": {
        "id": "vKFDSRlInXYj"
      },
      "execution_count": 39,
      "outputs": []
    },
    {
      "cell_type": "code",
      "source": [
        "wisata_data.columns"
      ],
      "metadata": {
        "colab": {
          "base_uri": "https://localhost:8080/"
        },
        "id": "b0yJk_BAndz0",
        "outputId": "84407e6f-1330-4aef-9ff6-8c4028e8e16d"
      },
      "execution_count": 40,
      "outputs": [
        {
          "output_type": "execute_result",
          "data": {
            "text/plain": [
              "Index(['Place_Id', 'Place_Name', 'Description', 'Category', 'City', 'Price',\n",
              "       'Rating', 'Coordinate', 'Lat', 'Long', 'Rating_Count'],\n",
              "      dtype='object')"
            ]
          },
          "metadata": {},
          "execution_count": 40
        }
      ]
    },
    {
      "cell_type": "code",
      "source": [
        "# Cek data yang  di setiap kolom\n",
        "wisata_data.isnull().sum()\n"
      ],
      "metadata": {
        "colab": {
          "base_uri": "https://localhost:8080/"
        },
        "id": "_-tWN7zCngyP",
        "outputId": "8ec4c397-c86c-45b5-bd81-6a89cababd22"
      },
      "execution_count": 41,
      "outputs": [
        {
          "output_type": "execute_result",
          "data": {
            "text/plain": [
              "Place_Id        0\n",
              "Place_Name      0\n",
              "Description     0\n",
              "Category        0\n",
              "City            0\n",
              "Price           0\n",
              "Rating          0\n",
              "Coordinate      0\n",
              "Lat             0\n",
              "Long            0\n",
              "Rating_Count    0\n",
              "dtype: int64"
            ]
          },
          "metadata": {},
          "execution_count": 41
        }
      ]
    },
    {
      "cell_type": "code",
      "source": [
        "print(wisata_data.shape)"
      ],
      "metadata": {
        "colab": {
          "base_uri": "https://localhost:8080/"
        },
        "id": "y_4MfeXcnjB8",
        "outputId": "2a1bc0f6-101b-43e9-da49-2845cd5c93eb"
      },
      "execution_count": 42,
      "outputs": [
        {
          "output_type": "stream",
          "name": "stdout",
          "text": [
            "(437, 11)\n"
          ]
        }
      ]
    },
    {
      "cell_type": "code",
      "source": [
        "# Cek duplikat pada dataset\n",
        "duplicate_rows = wisata_data[wisata_data.duplicated()]\n",
        "print(\"Jumlah baris duplikat:\", duplicate_rows.shape[0])\n",
        "print(\"Baris duplikat:\")\n",
        "print(duplicate_rows)\n"
      ],
      "metadata": {
        "colab": {
          "base_uri": "https://localhost:8080/"
        },
        "id": "ungtVC8onlxH",
        "outputId": "45d180c0-837d-45e4-e76c-161d82ac43ee"
      },
      "execution_count": 43,
      "outputs": [
        {
          "output_type": "stream",
          "name": "stdout",
          "text": [
            "Jumlah baris duplikat: 0\n",
            "Baris duplikat:\n",
            "Empty DataFrame\n",
            "Columns: [Place_Id, Place_Name, Description, Category, City, Price, Rating, Coordinate, Lat, Long, Rating_Count]\n",
            "Index: []\n"
          ]
        }
      ]
    },
    {
      "cell_type": "markdown",
      "source": [
        "Pembuatan TF-IDF Matrix"
      ],
      "metadata": {
        "id": "T-TFAmtA4YI6"
      }
    },
    {
      "cell_type": "code",
      "source": [
        "\n",
        "wisata_data['City_Category'] = wisata_data['City'] + ' ' + wisata_data['Category']\n",
        "\n",
        "\n",
        "wisata_data['City_Category'] = wisata_data['City_Category'].fillna('')\n",
        "\n",
        "\n",
        "tfidf = TfidfVectorizer(stop_words='english')\n",
        "\n",
        "tfidf_matrix = tfidf.fit_transform(wisata_data['City_Category'])\n",
        "\n",
        "tfidf_matrix.shape\n"
      ],
      "metadata": {
        "colab": {
          "base_uri": "https://localhost:8080/"
        },
        "id": "rY1qZH-n2LPf",
        "outputId": "0c9d5ab1-09e9-474d-8d78-c79cf21a66ab"
      },
      "execution_count": 44,
      "outputs": [
        {
          "output_type": "execute_result",
          "data": {
            "text/plain": [
              "(437, 15)"
            ]
          },
          "metadata": {},
          "execution_count": 44
        }
      ]
    },
    {
      "cell_type": "code",
      "source": [
        "\n",
        "wisata_data['Rating'] = wisata_data['Rating'].fillna(wisata_data['Rating'].mean())\n",
        "\n",
        "tfidf_matrix = tfidf.fit_transform(wisata_data['Category'] + ' ' + wisata_data['City'] + ' ' + wisata_data['Rating'].astype(str))\n"
      ],
      "metadata": {
        "id": "zZYdcwVZqaCe"
      },
      "execution_count": 45,
      "outputs": []
    },
    {
      "cell_type": "code",
      "source": [
        "from sklearn.metrics.pairwise import linear_kernel\n",
        "\n",
        "cosine_sim = linear_kernel(tfidf_matrix, tfidf_matrix)"
      ],
      "metadata": {
        "id": "cOhT6arV8AV2"
      },
      "execution_count": 46,
      "outputs": []
    },
    {
      "cell_type": "code",
      "source": [
        "\n",
        "indices = pd.Series(wisata_data.index, index=wisata_data['Place_Name']).drop_duplicates()"
      ],
      "metadata": {
        "id": "geBx1Q0W8ID6"
      },
      "execution_count": 47,
      "outputs": []
    },
    {
      "cell_type": "markdown",
      "source": [],
      "metadata": {
        "id": "RsUhs5H5CWlF"
      }
    },
    {
      "cell_type": "markdown",
      "source": [
        "Fungsi Rekomendasi"
      ],
      "metadata": {
        "id": "O7GRAjiE4juO"
      }
    },
    {
      "cell_type": "code",
      "source": [
        "def get_recommendations(Category, City, cosine_sim=cosine_sim):\n",
        "    filtered_data =  wisata_data[( wisata_data['Category'] == Category) & ( wisata_data['City'] == City)]\n",
        "\n",
        "    indices = filtered_data.index.tolist()\n",
        "\n",
        "    similarity_scores = [(idx, cosine_sim[idx]) for idx in indices]\n",
        "\n",
        "    similarity_scores = sorted(similarity_scores, key=lambda x: x[1], reverse=True)\n",
        "\n",
        "    similarity_scores = similarity_scores[1:16]\n",
        "\n",
        "    similar_places_indices = [i[0] for i in similarity_scores]\n",
        "\n",
        "    similar_places_indices = [i for i in similar_places_indices if  wisata_data.index[i] not in indices]\n",
        "\n",
        "    return  wisata_data[['Place_Name', 'City', 'Rating']].iloc[similar_places_indices]\n"
      ],
      "metadata": {
        "id": "2vODqZx88IHC"
      },
      "execution_count": 48,
      "outputs": []
    },
    {
      "cell_type": "markdown",
      "source": [
        "Model dan Latih Model"
      ],
      "metadata": {
        "id": "jFUcUNst4oOC"
      }
    },
    {
      "cell_type": "code",
      "source": [
        "from tensorflow.keras.callbacks import EarlyStopping\n",
        "from sklearn.model_selection import train_test_split\n",
        "\n",
        "train_data, test_data = train_test_split(wisata_data, test_size=0.2, random_state=42)\n",
        "\n",
        "class myCallback(tf.keras.callbacks.Callback):\n",
        "  def on_epoch_end(self, epoch, logs={}):\n",
        "\n",
        "    if(logs.get('accuracy') > 0.98):\n",
        "\n",
        "      print(\"\\naccuracy is higher than 0.98 so canceling training!\")\n",
        "      self.model.stop_training = True\n",
        "\n",
        "callbacks = myCallback()\n",
        "\n",
        "model = Sequential()\n",
        "model.add(Dense(64, activation='relu', input_shape=(tfidf_matrix.shape[1],)))\n",
        "model.add(Dense(32, activation='relu'))\n",
        "model.add(Dense(128, activation='relu'))\n",
        "model.add(Dense(1, activation='sigmoid'))\n",
        "\n",
        "model.compile(optimizer=tf.optimizers.Adam(), loss='mse', metrics=['accuracy'])\n",
        "\n",
        "model.fit(tfidf_matrix.toarray(), tfidf_matrix.toarray(), epochs=50, batch_size=32, validation_split=0.2, callbacks=[callbacks])\n",
        "\n"
      ],
      "metadata": {
        "colab": {
          "base_uri": "https://localhost:8080/"
        },
        "id": "OBi5lPFh8IJu",
        "outputId": "223d9ab2-070e-407d-9cba-5582cc508fcb"
      },
      "execution_count": 49,
      "outputs": [
        {
          "output_type": "stream",
          "name": "stdout",
          "text": [
            "Epoch 1/50\n",
            "11/11 [==============================] - 3s 55ms/step - loss: 0.1826 - accuracy: 0.8534 - val_loss: 0.1432 - val_accuracy: 0.8653\n",
            "Epoch 2/50\n",
            "11/11 [==============================] - 0s 16ms/step - loss: 0.1039 - accuracy: 0.8682 - val_loss: 0.0635 - val_accuracy: 0.8653\n",
            "Epoch 3/50\n",
            "11/11 [==============================] - 0s 13ms/step - loss: 0.0421 - accuracy: 0.8682 - val_loss: 0.0331 - val_accuracy: 0.8653\n",
            "Epoch 4/50\n",
            "11/11 [==============================] - 0s 11ms/step - loss: 0.0328 - accuracy: 0.8682 - val_loss: 0.0326 - val_accuracy: 0.8653\n",
            "Epoch 5/50\n",
            "11/11 [==============================] - 0s 17ms/step - loss: 0.0335 - accuracy: 0.8682 - val_loss: 0.0328 - val_accuracy: 0.8653\n",
            "Epoch 6/50\n",
            "11/11 [==============================] - 0s 15ms/step - loss: 0.0334 - accuracy: 0.8682 - val_loss: 0.0325 - val_accuracy: 0.8653\n",
            "Epoch 7/50\n",
            "11/11 [==============================] - 0s 14ms/step - loss: 0.0329 - accuracy: 0.8682 - val_loss: 0.0323 - val_accuracy: 0.8653\n",
            "Epoch 8/50\n",
            "11/11 [==============================] - 0s 13ms/step - loss: 0.0325 - accuracy: 0.8682 - val_loss: 0.0324 - val_accuracy: 0.8653\n",
            "Epoch 9/50\n",
            "11/11 [==============================] - 0s 15ms/step - loss: 0.0324 - accuracy: 0.8682 - val_loss: 0.0326 - val_accuracy: 0.8653\n",
            "Epoch 10/50\n",
            "11/11 [==============================] - 0s 15ms/step - loss: 0.0324 - accuracy: 0.8682 - val_loss: 0.0326 - val_accuracy: 0.8653\n",
            "Epoch 11/50\n",
            "11/11 [==============================] - 0s 22ms/step - loss: 0.0323 - accuracy: 0.8682 - val_loss: 0.0325 - val_accuracy: 0.8653\n",
            "Epoch 12/50\n",
            "11/11 [==============================] - 0s 20ms/step - loss: 0.0323 - accuracy: 0.8682 - val_loss: 0.0325 - val_accuracy: 0.8653\n",
            "Epoch 13/50\n",
            "11/11 [==============================] - 0s 14ms/step - loss: 0.0323 - accuracy: 0.8682 - val_loss: 0.0325 - val_accuracy: 0.8653\n",
            "Epoch 14/50\n",
            "11/11 [==============================] - 0s 20ms/step - loss: 0.0323 - accuracy: 0.8682 - val_loss: 0.0325 - val_accuracy: 0.8653\n",
            "Epoch 15/50\n",
            "11/11 [==============================] - 0s 18ms/step - loss: 0.0323 - accuracy: 0.8682 - val_loss: 0.0325 - val_accuracy: 0.8653\n",
            "Epoch 16/50\n",
            "11/11 [==============================] - 0s 13ms/step - loss: 0.0323 - accuracy: 0.8682 - val_loss: 0.0325 - val_accuracy: 0.8653\n",
            "Epoch 17/50\n",
            "11/11 [==============================] - 0s 25ms/step - loss: 0.0323 - accuracy: 0.8682 - val_loss: 0.0325 - val_accuracy: 0.8653\n",
            "Epoch 18/50\n",
            "11/11 [==============================] - 0s 18ms/step - loss: 0.0323 - accuracy: 0.8682 - val_loss: 0.0325 - val_accuracy: 0.8653\n",
            "Epoch 19/50\n",
            "11/11 [==============================] - 0s 17ms/step - loss: 0.0323 - accuracy: 0.8682 - val_loss: 0.0325 - val_accuracy: 0.8653\n",
            "Epoch 20/50\n",
            "11/11 [==============================] - 0s 17ms/step - loss: 0.0323 - accuracy: 0.8682 - val_loss: 0.0325 - val_accuracy: 0.8653\n",
            "Epoch 21/50\n",
            "11/11 [==============================] - 0s 30ms/step - loss: 0.0323 - accuracy: 0.8682 - val_loss: 0.0325 - val_accuracy: 0.8653\n",
            "Epoch 22/50\n",
            "11/11 [==============================] - 0s 22ms/step - loss: 0.0323 - accuracy: 0.8682 - val_loss: 0.0325 - val_accuracy: 0.8653\n",
            "Epoch 23/50\n",
            "11/11 [==============================] - 0s 25ms/step - loss: 0.0323 - accuracy: 0.8682 - val_loss: 0.0325 - val_accuracy: 0.8653\n",
            "Epoch 24/50\n",
            "11/11 [==============================] - 0s 37ms/step - loss: 0.0323 - accuracy: 0.8682 - val_loss: 0.0324 - val_accuracy: 0.8653\n",
            "Epoch 25/50\n",
            "11/11 [==============================] - 0s 15ms/step - loss: 0.0323 - accuracy: 0.8682 - val_loss: 0.0324 - val_accuracy: 0.8653\n",
            "Epoch 26/50\n",
            "11/11 [==============================] - 0s 16ms/step - loss: 0.0323 - accuracy: 0.8682 - val_loss: 0.0324 - val_accuracy: 0.8653\n",
            "Epoch 27/50\n",
            "11/11 [==============================] - 0s 31ms/step - loss: 0.0323 - accuracy: 0.8682 - val_loss: 0.0324 - val_accuracy: 0.8653\n",
            "Epoch 28/50\n",
            "11/11 [==============================] - 0s 30ms/step - loss: 0.0323 - accuracy: 0.8682 - val_loss: 0.0324 - val_accuracy: 0.8653\n",
            "Epoch 29/50\n",
            "11/11 [==============================] - 0s 31ms/step - loss: 0.0323 - accuracy: 0.8682 - val_loss: 0.0324 - val_accuracy: 0.8653\n",
            "Epoch 30/50\n",
            "11/11 [==============================] - 0s 35ms/step - loss: 0.0323 - accuracy: 0.8682 - val_loss: 0.0324 - val_accuracy: 0.8653\n",
            "Epoch 31/50\n",
            "11/11 [==============================] - 0s 23ms/step - loss: 0.0323 - accuracy: 0.8682 - val_loss: 0.0324 - val_accuracy: 0.8653\n",
            "Epoch 32/50\n",
            "11/11 [==============================] - 0s 28ms/step - loss: 0.0323 - accuracy: 0.8682 - val_loss: 0.0324 - val_accuracy: 0.8653\n",
            "Epoch 33/50\n",
            "11/11 [==============================] - 0s 27ms/step - loss: 0.0323 - accuracy: 0.8682 - val_loss: 0.0324 - val_accuracy: 0.8653\n",
            "Epoch 34/50\n",
            "11/11 [==============================] - 0s 26ms/step - loss: 0.0323 - accuracy: 0.8682 - val_loss: 0.0324 - val_accuracy: 0.8653\n",
            "Epoch 35/50\n",
            "11/11 [==============================] - 0s 17ms/step - loss: 0.0323 - accuracy: 0.8682 - val_loss: 0.0324 - val_accuracy: 0.8653\n",
            "Epoch 36/50\n",
            "11/11 [==============================] - 0s 35ms/step - loss: 0.0323 - accuracy: 0.8682 - val_loss: 0.0324 - val_accuracy: 0.8653\n",
            "Epoch 37/50\n",
            "11/11 [==============================] - 0s 32ms/step - loss: 0.0323 - accuracy: 0.8682 - val_loss: 0.0324 - val_accuracy: 0.8653\n",
            "Epoch 38/50\n",
            "11/11 [==============================] - 0s 25ms/step - loss: 0.0323 - accuracy: 0.8682 - val_loss: 0.0324 - val_accuracy: 0.8653\n",
            "Epoch 39/50\n",
            "11/11 [==============================] - 0s 44ms/step - loss: 0.0323 - accuracy: 0.8682 - val_loss: 0.0324 - val_accuracy: 0.8653\n",
            "Epoch 40/50\n",
            "11/11 [==============================] - 0s 42ms/step - loss: 0.0323 - accuracy: 0.8682 - val_loss: 0.0324 - val_accuracy: 0.8653\n",
            "Epoch 41/50\n",
            "11/11 [==============================] - 0s 40ms/step - loss: 0.0323 - accuracy: 0.8682 - val_loss: 0.0324 - val_accuracy: 0.8653\n",
            "Epoch 42/50\n",
            "11/11 [==============================] - 0s 28ms/step - loss: 0.0323 - accuracy: 0.8682 - val_loss: 0.0324 - val_accuracy: 0.8653\n",
            "Epoch 43/50\n",
            "11/11 [==============================] - 0s 34ms/step - loss: 0.0323 - accuracy: 0.8682 - val_loss: 0.0324 - val_accuracy: 0.8653\n",
            "Epoch 44/50\n",
            "11/11 [==============================] - 0s 27ms/step - loss: 0.0323 - accuracy: 0.8682 - val_loss: 0.0324 - val_accuracy: 0.8653\n",
            "Epoch 45/50\n",
            "11/11 [==============================] - 0s 21ms/step - loss: 0.0323 - accuracy: 0.8682 - val_loss: 0.0324 - val_accuracy: 0.8653\n",
            "Epoch 46/50\n",
            "11/11 [==============================] - 0s 28ms/step - loss: 0.0323 - accuracy: 0.8682 - val_loss: 0.0324 - val_accuracy: 0.8653\n",
            "Epoch 47/50\n",
            "11/11 [==============================] - 0s 24ms/step - loss: 0.0323 - accuracy: 0.8682 - val_loss: 0.0324 - val_accuracy: 0.8653\n",
            "Epoch 48/50\n",
            "11/11 [==============================] - 0s 24ms/step - loss: 0.0323 - accuracy: 0.8682 - val_loss: 0.0324 - val_accuracy: 0.8653\n",
            "Epoch 49/50\n",
            "11/11 [==============================] - 0s 20ms/step - loss: 0.0323 - accuracy: 0.8682 - val_loss: 0.0324 - val_accuracy: 0.8653\n",
            "Epoch 50/50\n",
            "11/11 [==============================] - 0s 17ms/step - loss: 0.0323 - accuracy: 0.8682 - val_loss: 0.0324 - val_accuracy: 0.8653\n"
          ]
        },
        {
          "output_type": "execute_result",
          "data": {
            "text/plain": [
              "<keras.src.callbacks.History at 0x79a9fa572a70>"
            ]
          },
          "metadata": {},
          "execution_count": 49
        }
      ]
    },
    {
      "cell_type": "code",
      "source": [
        "loss, accuracy = model.evaluate(tfidf_matrix.toarray(), tfidf_matrix.toarray())\n",
        "accuracy_percent = accuracy * 100\n",
        "print(f'Model Loss: {loss}, Model Accuracy: {accuracy_percent:.2f}%')\n"
      ],
      "metadata": {
        "colab": {
          "base_uri": "https://localhost:8080/"
        },
        "id": "Jnq-yKMa8INY",
        "outputId": "831424d0-127e-42b7-b87d-731bd4b4bd14"
      },
      "execution_count": 50,
      "outputs": [
        {
          "output_type": "stream",
          "name": "stdout",
          "text": [
            "14/14 [==============================] - 0s 3ms/step - loss: 0.0323 - accuracy: 0.8676\n",
            "Model Loss: 0.03230658173561096, Model Accuracy: 86.76%\n"
          ]
        }
      ]
    },
    {
      "cell_type": "code",
      "source": [
        "filtered_data = wisata_data[(wisata_data['Category'] == 'Taman Hiburan') & (wisata_data['City'] == 'Jakarta')]\n",
        "selected_columns = filtered_data[['Place_Id', 'Place_Name', 'Category', 'City', 'Coordinate']].head(7)\n",
        "print(selected_columns)"
      ],
      "metadata": {
        "colab": {
          "base_uri": "https://localhost:8080/"
        },
        "id": "RidpUIOB8IW_",
        "outputId": "ab51adf4-3f06-4bc4-c329-fa3a3deca2e0"
      },
      "execution_count": 51,
      "outputs": [
        {
          "output_type": "stream",
          "name": "stdout",
          "text": [
            "    Place_Id                         Place_Name       Category     City  \\\n",
            "2          3                      Dunia Fantasi  Taman Hiburan  Jakarta   \n",
            "3          4  Taman Mini Indonesia Indah (TMII)  Taman Hiburan  Jakarta   \n",
            "4          5           Atlantis Water Adventure  Taman Hiburan  Jakarta   \n",
            "5          6            Taman Impian Jaya Ancol  Taman Hiburan  Jakarta   \n",
            "7          8                      Ocean Ecopark  Taman Hiburan  Jakarta   \n",
            "18        19                           Kidzania  Taman Hiburan  Jakarta   \n",
            "26        27                          Sea World  Taman Hiburan  Jakarta   \n",
            "\n",
            "                                         Coordinate  \n",
            "2   {'lat': -6.125312399999999, 'lng': 106.8335377}  \n",
            "3   {'lat': -6.302445899999999, 'lng': 106.8951559}  \n",
            "4              {'lat': -6.12419, 'lng': 106.839134}  \n",
            "5   {'lat': -6.117333200000001, 'lng': 106.8579951}  \n",
            "7   {'lat': -6.125801699999999, 'lng': 106.8363249}  \n",
            "18  {'lat': -6.225073499999999, 'lng': 106.8097144}  \n",
            "26   {'lat': -6.126477500000001, 'lng': 106.842963}  \n"
          ]
        }
      ]
    },
    {
      "cell_type": "code",
      "source": [
        "model = create_model()\n",
        "model.fit(train_images, train_labels, epochs=5)\n",
        "\n",
        "!mkdir -p saved_model\n",
        "model.save('saved_model/modelrekomen')"
      ],
      "metadata": {
        "id": "UFalJWlBzPce",
        "colab": {
          "base_uri": "https://localhost:8080/",
          "height": 245
        },
        "outputId": "603ca325-0406-4e43-c7fd-f30d0d3ad430"
      },
      "execution_count": 3,
      "outputs": [
        {
          "output_type": "error",
          "ename": "NameError",
          "evalue": "ignored",
          "traceback": [
            "\u001b[0;31m---------------------------------------------------------------------------\u001b[0m",
            "\u001b[0;31mNameError\u001b[0m                                 Traceback (most recent call last)",
            "\u001b[0;32m<ipython-input-3-a57126c9352a>\u001b[0m in \u001b[0;36m<cell line: 1>\u001b[0;34m()\u001b[0m\n\u001b[0;32m----> 1\u001b[0;31m \u001b[0mmodel\u001b[0m \u001b[0;34m=\u001b[0m \u001b[0mcreate_model\u001b[0m\u001b[0;34m(\u001b[0m\u001b[0;34m)\u001b[0m\u001b[0;34m\u001b[0m\u001b[0;34m\u001b[0m\u001b[0m\n\u001b[0m\u001b[1;32m      2\u001b[0m \u001b[0mmodel\u001b[0m\u001b[0;34m.\u001b[0m\u001b[0mfit\u001b[0m\u001b[0;34m(\u001b[0m\u001b[0mtrain_images\u001b[0m\u001b[0;34m,\u001b[0m \u001b[0mtrain_labels\u001b[0m\u001b[0;34m,\u001b[0m \u001b[0mepochs\u001b[0m\u001b[0;34m=\u001b[0m\u001b[0;36m5\u001b[0m\u001b[0;34m)\u001b[0m\u001b[0;34m\u001b[0m\u001b[0;34m\u001b[0m\u001b[0m\n\u001b[1;32m      3\u001b[0m \u001b[0;34m\u001b[0m\u001b[0m\n\u001b[1;32m      4\u001b[0m \u001b[0mget_ipython\u001b[0m\u001b[0;34m(\u001b[0m\u001b[0;34m)\u001b[0m\u001b[0;34m.\u001b[0m\u001b[0msystem\u001b[0m\u001b[0;34m(\u001b[0m\u001b[0;34m'mkdir -p saved_model'\u001b[0m\u001b[0;34m)\u001b[0m\u001b[0;34m\u001b[0m\u001b[0;34m\u001b[0m\u001b[0m\n\u001b[1;32m      5\u001b[0m \u001b[0mmodel\u001b[0m\u001b[0;34m.\u001b[0m\u001b[0msave\u001b[0m\u001b[0;34m(\u001b[0m\u001b[0;34m'saved_model/modelrekomen'\u001b[0m\u001b[0;34m)\u001b[0m\u001b[0;34m\u001b[0m\u001b[0;34m\u001b[0m\u001b[0m\n",
            "\u001b[0;31mNameError\u001b[0m: name 'create_model' is not defined"
          ]
        }
      ]
    },
    {
      "cell_type": "code",
      "source": [],
      "metadata": {
        "id": "tWAq7NNi_k7e"
      },
      "execution_count": null,
      "outputs": []
    }
  ]
}